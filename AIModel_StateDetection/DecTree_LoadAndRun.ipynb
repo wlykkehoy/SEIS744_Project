{
 "cells": [
  {
   "cell_type": "markdown",
   "metadata": {},
   "source": [
    "### Load and Run Decision TRee Model\n",
    "\n",
    "Test code for loading the Decision Tree model pipeline (scaler + dec tree) and running some predictions."
   ]
  },
  {
   "cell_type": "code",
   "execution_count": 1,
   "metadata": {},
   "outputs": [],
   "source": [
    "# Import libraries we will be using\n",
    "\n",
    "import sys\n",
    "import numpy as np\n",
    "import pandas as pd\n",
    "\n",
    "import sklearn.metrics as skl_met\n",
    "\n",
    "import pickle"
   ]
  },
  {
   "cell_type": "code",
   "execution_count": 2,
   "metadata": {},
   "outputs": [
    {
     "name": "stdout",
     "output_type": "stream",
     "text": [
      "python version:     3.7.7 (default, Mar 23 2020, 23:19:08) [MSC v.1916 64 bit (AMD64)]\n",
      "numpy version:      1.18.1\n",
      "pandas version:     1.0.3\n"
     ]
    }
   ],
   "source": [
    "# Always a good idea to dump verions of key libraries\n",
    "print('python version:    ', sys.version)\n",
    "print('numpy version:     ', np.__version__)\n",
    "print('pandas version:    ', pd.__version__)\n"
   ]
  },
  {
   "cell_type": "code",
   "execution_count": 3,
   "metadata": {},
   "outputs": [],
   "source": [
    "# Load the pickled model\n",
    "model = pickle.load(open('tree_pipeline.pkl', 'rb'))"
   ]
  },
  {
   "cell_type": "code",
   "execution_count": 4,
   "metadata": {},
   "outputs": [
    {
     "name": "stdout",
     "output_type": "stream",
     "text": [
      "Confusion Matrix:\n",
      " [[2 0 0]\n",
      " [0 2 0]\n",
      " [0 0 2]]\n"
     ]
    }
   ],
   "source": [
    "# Let's test the pipeline with some randomly selected values from the \n",
    "#   original data file\n",
    "X_test = [[0.074531], [0.847295], [0.194172], [0.649200], [0.058840], [0.207901]]\n",
    "y_test_class = [0, 2, 1, 2, 0, 1]\n",
    "\n",
    "yhat_test_class = model.predict(X_test)\n",
    "\n",
    "print('Confusion Matrix:\\n', skl_met.confusion_matrix(y_test_class, yhat_test_class))"
   ]
  }
 ],
 "metadata": {
  "kernelspec": {
   "display_name": "Python 3",
   "language": "python",
   "name": "python3"
  },
  "language_info": {
   "codemirror_mode": {
    "name": "ipython",
    "version": 3
   },
   "file_extension": ".py",
   "mimetype": "text/x-python",
   "name": "python",
   "nbconvert_exporter": "python",
   "pygments_lexer": "ipython3",
   "version": "3.7.7"
  }
 },
 "nbformat": 4,
 "nbformat_minor": 4
}
